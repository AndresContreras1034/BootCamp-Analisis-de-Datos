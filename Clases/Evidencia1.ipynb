# Importar librerías
import pandas as pd
import matplotlib.pyplot as plt

# Cargar datos (ejemplo con CSV)
data = pd.read_csv('https://raw.githubusercontent.com/mwaskom/seaborn-data/master/tips.csv')

# Explorar los primeros registros
print("Primeros 5 registros:")
print(data.head())

# Estadísticas básicas
print("\nEstadísticas descriptivas:")
print(data.describe())

# Visualización simple: total de propina por día
plt.figure(figsize=(8,5))
data.groupby('day')['tip'].sum().plot(kind='bar', color='skyblue')
plt.title("Total de propinas por día")
plt.ylabel("Propina total")
plt.xlabel("Día")
plt.show()
